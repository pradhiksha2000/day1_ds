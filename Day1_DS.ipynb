{
  "nbformat": 4,
  "nbformat_minor": 0,
  "metadata": {
    "colab": {
      "name": "Day1_DS.ipynb",
      "provenance": [],
      "collapsed_sections": [],
      "authorship_tag": "ABX9TyPcr+kcEGE0zXWjGIDXHk1P",
      "include_colab_link": true
    },
    "kernelspec": {
      "name": "python3",
      "display_name": "Python 3"
    },
    "language_info": {
      "name": "python"
    }
  },
  "cells": [
    {
      "cell_type": "markdown",
      "metadata": {
        "id": "view-in-github",
        "colab_type": "text"
      },
      "source": [
        "<a href=\"https://colab.research.google.com/github/pradhiksha2000/day1_ds/blob/main/Day1_DS.ipynb\" target=\"_parent\"><img src=\"https://colab.research.google.com/assets/colab-badge.svg\" alt=\"Open In Colab\"/></a>"
      ]
    },
    {
      "cell_type": "code",
      "metadata": {
        "id": "1ASWGAPgXj52"
      },
      "source": [
        ""
      ],
      "execution_count": null,
      "outputs": []
    },
    {
      "cell_type": "code",
      "metadata": {
        "id": "t-2zNg7IcIIE"
      },
      "source": [
        ""
      ],
      "execution_count": null,
      "outputs": []
    },
    {
      "cell_type": "markdown",
      "metadata": {
        "id": "Xc6YU8TNcLms"
      },
      "source": [
        "**implementing numpy using python programming**"
      ]
    },
    {
      "cell_type": "code",
      "metadata": {
        "colab": {
          "base_uri": "https://localhost:8080/"
        },
        "id": "n_n7DIMPcmVU",
        "outputId": "1ad2242e-3dfb-441a-cbcc-67655a4c3962"
      },
      "source": [
        "#importing libraries\n",
        "import numpy as np\n",
        "\n",
        "a = [1,2,3,4]#list\n",
        "\n",
        "arr1 = np.array(a)\n",
        "print(arr1)\n",
        "\n",
        "b =[[1,2,3,4],[4,5,6,7]]#list2\n",
        "\n",
        "arr2 = np.array(b)\n",
        "print(arr2)"
      ],
      "execution_count": 5,
      "outputs": [
        {
          "output_type": "stream",
          "text": [
            "[1 2 3 4]\n",
            "[[1 2 3 4]\n",
            " [4 5 6 7]]\n"
          ],
          "name": "stdout"
        }
      ]
    },
    {
      "cell_type": "markdown",
      "metadata": {
        "id": "ui1K_SsfdxP7"
      },
      "source": [
        ""
      ]
    },
    {
      "cell_type": "code",
      "metadata": {
        "colab": {
          "base_uri": "https://localhost:8080/"
        },
        "id": "G-L726Gpdy41",
        "outputId": "bad0223a-c9f3-402c-8200-f73663403860"
      },
      "source": [
        "import sys\n",
        "\n",
        "s = np.arange(10000)\n",
        "\n",
        "print(\"size of each element numpy array in bytes\",s.itemsize)\n",
        "print(\"size of whole array in bytes:\", s.size * s.itemsize)"
      ],
      "execution_count": 18,
      "outputs": [
        {
          "output_type": "stream",
          "text": [
            "size of each element numpy array in bytes 8\n",
            "size of whole array in bytes: 80000\n"
          ],
          "name": "stdout"
        }
      ]
    },
    {
      "cell_type": "code",
      "metadata": {
        "colab": {
          "base_uri": "https://localhost:8080/"
        },
        "id": "pRUT-p2meq9b",
        "outputId": "09c49d19-ce10-4b88-fc65-78dd0a17cb82"
      },
      "source": [
        "import numpy as np\n",
        "import time\n",
        "\n",
        "a = range(10000)\n",
        "b = range(10000)\n",
        "\n",
        "start = time.time() #mark the start time\n",
        "#list comprehension (multiply each element of a and b)\n",
        "\n",
        "ab = [(a *b) for a,b in zip(a,b)]\n",
        "\n",
        "end = time.time()\n",
        "\n",
        "print(\"total time taken:\", end - start)"
      ],
      "execution_count": 10,
      "outputs": [
        {
          "output_type": "stream",
          "text": [
            "total time taken: 0.002444028854370117\n"
          ],
          "name": "stdout"
        }
      ]
    },
    {
      "cell_type": "code",
      "metadata": {
        "colab": {
          "base_uri": "https://localhost:8080/"
        },
        "id": "ScdQ68nBe3VA",
        "outputId": "d6579dc0-cefa-4434-aaad-554dfc247957"
      },
      "source": [
        "import numpy as np\n",
        "arr3 = np.array([[1,2,3], [4,5,6]], ndmin = 2)\n",
        "\n",
        "print(arr3) "
      ],
      "execution_count": 11,
      "outputs": [
        {
          "output_type": "stream",
          "text": [
            "[[1 2 3]\n",
            " [4 5 6]]\n"
          ],
          "name": "stdout"
        }
      ]
    },
    {
      "cell_type": "code",
      "metadata": {
        "colab": {
          "base_uri": "https://localhost:8080/"
        },
        "id": "bsJIqoUxgPBh",
        "outputId": "e165c8d9-9f9e-4448-9a28-64f4e1a489e1"
      },
      "source": [
        "arr4 = np.array([[1,2,3],[4,5,6]])\n",
        "\n",
        "print(arr4.dtype)\n",
        "printarr4.ndim\n",
        "printarr4.shape\n",
        "printarr4.size"
      ],
      "execution_count": 12,
      "outputs": [
        {
          "output_type": "execute_result",
          "data": {
            "text/plain": [
              "6"
            ]
          },
          "metadata": {
            "tags": []
          },
          "execution_count": 12
        }
      ]
    },
    {
      "cell_type": "code",
      "metadata": {
        "colab": {
          "base_uri": "https://localhost:8080/"
        },
        "id": "X7TGaBP5g3d8",
        "outputId": "612c0c24-2af4-4e42-cc4d-f43084e2ced6"
      },
      "source": [
        "zero1 = np.zeros((2,2))\n",
        "\n",
        "print(zero1)"
      ],
      "execution_count": 14,
      "outputs": [
        {
          "output_type": "stream",
          "text": [
            "[[0. 0.]\n",
            " [0. 0.]]\n"
          ],
          "name": "stdout"
        }
      ]
    },
    {
      "cell_type": "code",
      "metadata": {
        "colab": {
          "base_uri": "https://localhost:8080/"
        },
        "id": "hsPlFzyAhJPz",
        "outputId": "24ae2e48-affe-4043-e9af-e5a0ad036cf4"
      },
      "source": [
        "import numpy as np\n",
        "c = np.arange(3,10,2)\n",
        "\n",
        "print(type(c))"
      ],
      "execution_count": 16,
      "outputs": [
        {
          "output_type": "stream",
          "text": [
            "<class 'numpy.ndarray'>\n"
          ],
          "name": "stdout"
        }
      ]
    },
    {
      "cell_type": "code",
      "metadata": {
        "colab": {
          "base_uri": "https://localhost:8080/"
        },
        "id": "NFU6NP8ZhueX",
        "outputId": "74430e4a-3d94-4b97-b5cd-a177ada831ce"
      },
      "source": [
        "a = [1,2,3,4,5]\n",
        "\n",
        "b = np.array(a)\n",
        "\n",
        "print(b)\n",
        "\n"
      ],
      "execution_count": 19,
      "outputs": [
        {
          "output_type": "stream",
          "text": [
            "[1 2 3 4 5]\n"
          ],
          "name": "stdout"
        }
      ]
    },
    {
      "cell_type": "code",
      "metadata": {
        "colab": {
          "base_uri": "https://localhost:8080/"
        },
        "id": "ti-chHlLjCvl",
        "outputId": "dfbd4a91-b7db-4f31-90e7-c0c767ec33ea"
      },
      "source": [
        "b[-2]"
      ],
      "execution_count": 20,
      "outputs": [
        {
          "output_type": "execute_result",
          "data": {
            "text/plain": [
              "4"
            ]
          },
          "metadata": {
            "tags": []
          },
          "execution_count": 20
        }
      ]
    },
    {
      "cell_type": "code",
      "metadata": {
        "colab": {
          "base_uri": "https://localhost:8080/"
        },
        "id": "z5OwgIjZjjJI",
        "outputId": "0fe77d76-ffa0-4643-907b-479b91d29ea7"
      },
      "source": [
        "b[0:1]"
      ],
      "execution_count": 22,
      "outputs": [
        {
          "output_type": "execute_result",
          "data": {
            "text/plain": [
              "array([1])"
            ]
          },
          "metadata": {
            "tags": []
          },
          "execution_count": 22
        }
      ]
    },
    {
      "cell_type": "code",
      "metadata": {
        "colab": {
          "base_uri": "https://localhost:8080/"
        },
        "id": "H6CyKNI4kF9u",
        "outputId": "70633934-69e8-49cc-9b29-6d1ef45d4ad5"
      },
      "source": [
        "b[0] = 10\n",
        "\n",
        "print(b)"
      ],
      "execution_count": 24,
      "outputs": [
        {
          "output_type": "stream",
          "text": [
            "[10  2  3  4  5]\n"
          ],
          "name": "stdout"
        }
      ]
    },
    {
      "cell_type": "code",
      "metadata": {
        "colab": {
          "base_uri": "https://localhost:8080/"
        },
        "id": "9x5lCL1KkUtj",
        "outputId": "c21c90e7-1f0a-4135-a01c-20061ddd510a"
      },
      "source": [
        "print(b[2:])"
      ],
      "execution_count": 26,
      "outputs": [
        {
          "output_type": "stream",
          "text": [
            "[3 4 5]\n"
          ],
          "name": "stdout"
        }
      ]
    },
    {
      "cell_type": "code",
      "metadata": {
        "colab": {
          "base_uri": "https://localhost:8080/"
        },
        "id": "dck-anKSkUfN",
        "outputId": "341f9e4a-ce71-4639-cc10-d0b139a00990"
      },
      "source": [
        "print(b[ :3])"
      ],
      "execution_count": 27,
      "outputs": [
        {
          "output_type": "stream",
          "text": [
            "[10  2  3]\n"
          ],
          "name": "stdout"
        }
      ]
    },
    {
      "cell_type": "code",
      "metadata": {
        "id": "zXnzn9pVklTJ"
      },
      "source": [
        "c = np.array([[1,2,3,4,5], [6,7,8,9,10]])\n",
        "c\n",
        "\n"
      ],
      "execution_count": null,
      "outputs": []
    },
    {
      "cell_type": "markdown",
      "metadata": {
        "id": "UD7dJtRUlLok"
      },
      "source": [
        "**pandas library implementation**"
      ]
    },
    {
      "cell_type": "code",
      "metadata": {
        "id": "SKQOy5mNlVQP"
      },
      "source": [
        "import pandas as pd\n",
        "\n",
        "dataset = pd.read_csv(\"/content/sample_data/california_housing_test.csv\")"
      ],
      "execution_count": 29,
      "outputs": []
    },
    {
      "cell_type": "code",
      "metadata": {
        "colab": {
          "base_uri": "https://localhost:8080/",
          "height": 491
        },
        "id": "bGUURT8tmf91",
        "outputId": "5dcb6801-730d-40b1-a94e-3a15771c3996"
      },
      "source": [
        "dataset.head(15)"
      ],
      "execution_count": 31,
      "outputs": [
        {
          "output_type": "execute_result",
          "data": {
            "text/html": [
              "<div>\n",
              "<style scoped>\n",
              "    .dataframe tbody tr th:only-of-type {\n",
              "        vertical-align: middle;\n",
              "    }\n",
              "\n",
              "    .dataframe tbody tr th {\n",
              "        vertical-align: top;\n",
              "    }\n",
              "\n",
              "    .dataframe thead th {\n",
              "        text-align: right;\n",
              "    }\n",
              "</style>\n",
              "<table border=\"1\" class=\"dataframe\">\n",
              "  <thead>\n",
              "    <tr style=\"text-align: right;\">\n",
              "      <th></th>\n",
              "      <th>longitude</th>\n",
              "      <th>latitude</th>\n",
              "      <th>housing_median_age</th>\n",
              "      <th>total_rooms</th>\n",
              "      <th>total_bedrooms</th>\n",
              "      <th>population</th>\n",
              "      <th>households</th>\n",
              "      <th>median_income</th>\n",
              "      <th>median_house_value</th>\n",
              "    </tr>\n",
              "  </thead>\n",
              "  <tbody>\n",
              "    <tr>\n",
              "      <th>0</th>\n",
              "      <td>-122.05</td>\n",
              "      <td>37.37</td>\n",
              "      <td>27.0</td>\n",
              "      <td>3885.0</td>\n",
              "      <td>661.0</td>\n",
              "      <td>1537.0</td>\n",
              "      <td>606.0</td>\n",
              "      <td>6.6085</td>\n",
              "      <td>344700.0</td>\n",
              "    </tr>\n",
              "    <tr>\n",
              "      <th>1</th>\n",
              "      <td>-118.30</td>\n",
              "      <td>34.26</td>\n",
              "      <td>43.0</td>\n",
              "      <td>1510.0</td>\n",
              "      <td>310.0</td>\n",
              "      <td>809.0</td>\n",
              "      <td>277.0</td>\n",
              "      <td>3.5990</td>\n",
              "      <td>176500.0</td>\n",
              "    </tr>\n",
              "    <tr>\n",
              "      <th>2</th>\n",
              "      <td>-117.81</td>\n",
              "      <td>33.78</td>\n",
              "      <td>27.0</td>\n",
              "      <td>3589.0</td>\n",
              "      <td>507.0</td>\n",
              "      <td>1484.0</td>\n",
              "      <td>495.0</td>\n",
              "      <td>5.7934</td>\n",
              "      <td>270500.0</td>\n",
              "    </tr>\n",
              "    <tr>\n",
              "      <th>3</th>\n",
              "      <td>-118.36</td>\n",
              "      <td>33.82</td>\n",
              "      <td>28.0</td>\n",
              "      <td>67.0</td>\n",
              "      <td>15.0</td>\n",
              "      <td>49.0</td>\n",
              "      <td>11.0</td>\n",
              "      <td>6.1359</td>\n",
              "      <td>330000.0</td>\n",
              "    </tr>\n",
              "    <tr>\n",
              "      <th>4</th>\n",
              "      <td>-119.67</td>\n",
              "      <td>36.33</td>\n",
              "      <td>19.0</td>\n",
              "      <td>1241.0</td>\n",
              "      <td>244.0</td>\n",
              "      <td>850.0</td>\n",
              "      <td>237.0</td>\n",
              "      <td>2.9375</td>\n",
              "      <td>81700.0</td>\n",
              "    </tr>\n",
              "    <tr>\n",
              "      <th>5</th>\n",
              "      <td>-119.56</td>\n",
              "      <td>36.51</td>\n",
              "      <td>37.0</td>\n",
              "      <td>1018.0</td>\n",
              "      <td>213.0</td>\n",
              "      <td>663.0</td>\n",
              "      <td>204.0</td>\n",
              "      <td>1.6635</td>\n",
              "      <td>67000.0</td>\n",
              "    </tr>\n",
              "    <tr>\n",
              "      <th>6</th>\n",
              "      <td>-121.43</td>\n",
              "      <td>38.63</td>\n",
              "      <td>43.0</td>\n",
              "      <td>1009.0</td>\n",
              "      <td>225.0</td>\n",
              "      <td>604.0</td>\n",
              "      <td>218.0</td>\n",
              "      <td>1.6641</td>\n",
              "      <td>67000.0</td>\n",
              "    </tr>\n",
              "    <tr>\n",
              "      <th>7</th>\n",
              "      <td>-120.65</td>\n",
              "      <td>35.48</td>\n",
              "      <td>19.0</td>\n",
              "      <td>2310.0</td>\n",
              "      <td>471.0</td>\n",
              "      <td>1341.0</td>\n",
              "      <td>441.0</td>\n",
              "      <td>3.2250</td>\n",
              "      <td>166900.0</td>\n",
              "    </tr>\n",
              "    <tr>\n",
              "      <th>8</th>\n",
              "      <td>-122.84</td>\n",
              "      <td>38.40</td>\n",
              "      <td>15.0</td>\n",
              "      <td>3080.0</td>\n",
              "      <td>617.0</td>\n",
              "      <td>1446.0</td>\n",
              "      <td>599.0</td>\n",
              "      <td>3.6696</td>\n",
              "      <td>194400.0</td>\n",
              "    </tr>\n",
              "    <tr>\n",
              "      <th>9</th>\n",
              "      <td>-118.02</td>\n",
              "      <td>34.08</td>\n",
              "      <td>31.0</td>\n",
              "      <td>2402.0</td>\n",
              "      <td>632.0</td>\n",
              "      <td>2830.0</td>\n",
              "      <td>603.0</td>\n",
              "      <td>2.3333</td>\n",
              "      <td>164200.0</td>\n",
              "    </tr>\n",
              "    <tr>\n",
              "      <th>10</th>\n",
              "      <td>-118.24</td>\n",
              "      <td>33.98</td>\n",
              "      <td>45.0</td>\n",
              "      <td>972.0</td>\n",
              "      <td>249.0</td>\n",
              "      <td>1288.0</td>\n",
              "      <td>261.0</td>\n",
              "      <td>2.2054</td>\n",
              "      <td>125000.0</td>\n",
              "    </tr>\n",
              "    <tr>\n",
              "      <th>11</th>\n",
              "      <td>-119.12</td>\n",
              "      <td>35.85</td>\n",
              "      <td>37.0</td>\n",
              "      <td>736.0</td>\n",
              "      <td>166.0</td>\n",
              "      <td>564.0</td>\n",
              "      <td>138.0</td>\n",
              "      <td>2.4167</td>\n",
              "      <td>58300.0</td>\n",
              "    </tr>\n",
              "    <tr>\n",
              "      <th>12</th>\n",
              "      <td>-121.93</td>\n",
              "      <td>37.25</td>\n",
              "      <td>36.0</td>\n",
              "      <td>1089.0</td>\n",
              "      <td>182.0</td>\n",
              "      <td>535.0</td>\n",
              "      <td>170.0</td>\n",
              "      <td>4.6900</td>\n",
              "      <td>252600.0</td>\n",
              "    </tr>\n",
              "    <tr>\n",
              "      <th>13</th>\n",
              "      <td>-117.03</td>\n",
              "      <td>32.97</td>\n",
              "      <td>16.0</td>\n",
              "      <td>3936.0</td>\n",
              "      <td>694.0</td>\n",
              "      <td>1935.0</td>\n",
              "      <td>659.0</td>\n",
              "      <td>4.5625</td>\n",
              "      <td>231200.0</td>\n",
              "    </tr>\n",
              "    <tr>\n",
              "      <th>14</th>\n",
              "      <td>-117.97</td>\n",
              "      <td>33.73</td>\n",
              "      <td>27.0</td>\n",
              "      <td>2097.0</td>\n",
              "      <td>325.0</td>\n",
              "      <td>1217.0</td>\n",
              "      <td>331.0</td>\n",
              "      <td>5.7121</td>\n",
              "      <td>222500.0</td>\n",
              "    </tr>\n",
              "  </tbody>\n",
              "</table>\n",
              "</div>"
            ],
            "text/plain": [
              "    longitude  latitude  ...  median_income  median_house_value\n",
              "0     -122.05     37.37  ...         6.6085            344700.0\n",
              "1     -118.30     34.26  ...         3.5990            176500.0\n",
              "2     -117.81     33.78  ...         5.7934            270500.0\n",
              "3     -118.36     33.82  ...         6.1359            330000.0\n",
              "4     -119.67     36.33  ...         2.9375             81700.0\n",
              "5     -119.56     36.51  ...         1.6635             67000.0\n",
              "6     -121.43     38.63  ...         1.6641             67000.0\n",
              "7     -120.65     35.48  ...         3.2250            166900.0\n",
              "8     -122.84     38.40  ...         3.6696            194400.0\n",
              "9     -118.02     34.08  ...         2.3333            164200.0\n",
              "10    -118.24     33.98  ...         2.2054            125000.0\n",
              "11    -119.12     35.85  ...         2.4167             58300.0\n",
              "12    -121.93     37.25  ...         4.6900            252600.0\n",
              "13    -117.03     32.97  ...         4.5625            231200.0\n",
              "14    -117.97     33.73  ...         5.7121            222500.0\n",
              "\n",
              "[15 rows x 9 columns]"
            ]
          },
          "metadata": {
            "tags": []
          },
          "execution_count": 31
        }
      ]
    },
    {
      "cell_type": "code",
      "metadata": {
        "colab": {
          "base_uri": "https://localhost:8080/"
        },
        "id": "lq4gPaWEm69k",
        "outputId": "a395d393-3097-473d-f1e7-3ce0831704dd"
      },
      "source": [
        "dataset.shape\n"
      ],
      "execution_count": 32,
      "outputs": [
        {
          "output_type": "execute_result",
          "data": {
            "text/plain": [
              "(3000, 9)"
            ]
          },
          "metadata": {
            "tags": []
          },
          "execution_count": 32
        }
      ]
    },
    {
      "cell_type": "code",
      "metadata": {
        "colab": {
          "base_uri": "https://localhost:8080/"
        },
        "id": "5lTKjJK_m66r",
        "outputId": "b399be71-621b-4eab-baae-a71c0c1c3dcb"
      },
      "source": [
        "dataset.info()"
      ],
      "execution_count": 33,
      "outputs": [
        {
          "output_type": "stream",
          "text": [
            "<class 'pandas.core.frame.DataFrame'>\n",
            "RangeIndex: 3000 entries, 0 to 2999\n",
            "Data columns (total 9 columns):\n",
            " #   Column              Non-Null Count  Dtype  \n",
            "---  ------              --------------  -----  \n",
            " 0   longitude           3000 non-null   float64\n",
            " 1   latitude            3000 non-null   float64\n",
            " 2   housing_median_age  3000 non-null   float64\n",
            " 3   total_rooms         3000 non-null   float64\n",
            " 4   total_bedrooms      3000 non-null   float64\n",
            " 5   population          3000 non-null   float64\n",
            " 6   households          3000 non-null   float64\n",
            " 7   median_income       3000 non-null   float64\n",
            " 8   median_house_value  3000 non-null   float64\n",
            "dtypes: float64(9)\n",
            "memory usage: 211.1 KB\n"
          ],
          "name": "stdout"
        }
      ]
    },
    {
      "cell_type": "code",
      "metadata": {
        "colab": {
          "base_uri": "https://localhost:8080/",
          "height": 284
        },
        "id": "vcsJL7GCnSem",
        "outputId": "0b834988-0b1b-46a8-ab8c-773b0e09b624"
      },
      "source": [
        "\n",
        "dataset.describe()"
      ],
      "execution_count": 35,
      "outputs": [
        {
          "output_type": "execute_result",
          "data": {
            "text/html": [
              "<div>\n",
              "<style scoped>\n",
              "    .dataframe tbody tr th:only-of-type {\n",
              "        vertical-align: middle;\n",
              "    }\n",
              "\n",
              "    .dataframe tbody tr th {\n",
              "        vertical-align: top;\n",
              "    }\n",
              "\n",
              "    .dataframe thead th {\n",
              "        text-align: right;\n",
              "    }\n",
              "</style>\n",
              "<table border=\"1\" class=\"dataframe\">\n",
              "  <thead>\n",
              "    <tr style=\"text-align: right;\">\n",
              "      <th></th>\n",
              "      <th>longitude</th>\n",
              "      <th>latitude</th>\n",
              "      <th>housing_median_age</th>\n",
              "      <th>total_rooms</th>\n",
              "      <th>total_bedrooms</th>\n",
              "      <th>population</th>\n",
              "      <th>households</th>\n",
              "      <th>median_income</th>\n",
              "      <th>median_house_value</th>\n",
              "    </tr>\n",
              "  </thead>\n",
              "  <tbody>\n",
              "    <tr>\n",
              "      <th>count</th>\n",
              "      <td>3000.000000</td>\n",
              "      <td>3000.00000</td>\n",
              "      <td>3000.000000</td>\n",
              "      <td>3000.000000</td>\n",
              "      <td>3000.000000</td>\n",
              "      <td>3000.000000</td>\n",
              "      <td>3000.00000</td>\n",
              "      <td>3000.000000</td>\n",
              "      <td>3000.00000</td>\n",
              "    </tr>\n",
              "    <tr>\n",
              "      <th>mean</th>\n",
              "      <td>-119.589200</td>\n",
              "      <td>35.63539</td>\n",
              "      <td>28.845333</td>\n",
              "      <td>2599.578667</td>\n",
              "      <td>529.950667</td>\n",
              "      <td>1402.798667</td>\n",
              "      <td>489.91200</td>\n",
              "      <td>3.807272</td>\n",
              "      <td>205846.27500</td>\n",
              "    </tr>\n",
              "    <tr>\n",
              "      <th>std</th>\n",
              "      <td>1.994936</td>\n",
              "      <td>2.12967</td>\n",
              "      <td>12.555396</td>\n",
              "      <td>2155.593332</td>\n",
              "      <td>415.654368</td>\n",
              "      <td>1030.543012</td>\n",
              "      <td>365.42271</td>\n",
              "      <td>1.854512</td>\n",
              "      <td>113119.68747</td>\n",
              "    </tr>\n",
              "    <tr>\n",
              "      <th>min</th>\n",
              "      <td>-124.180000</td>\n",
              "      <td>32.56000</td>\n",
              "      <td>1.000000</td>\n",
              "      <td>6.000000</td>\n",
              "      <td>2.000000</td>\n",
              "      <td>5.000000</td>\n",
              "      <td>2.00000</td>\n",
              "      <td>0.499900</td>\n",
              "      <td>22500.00000</td>\n",
              "    </tr>\n",
              "    <tr>\n",
              "      <th>25%</th>\n",
              "      <td>-121.810000</td>\n",
              "      <td>33.93000</td>\n",
              "      <td>18.000000</td>\n",
              "      <td>1401.000000</td>\n",
              "      <td>291.000000</td>\n",
              "      <td>780.000000</td>\n",
              "      <td>273.00000</td>\n",
              "      <td>2.544000</td>\n",
              "      <td>121200.00000</td>\n",
              "    </tr>\n",
              "    <tr>\n",
              "      <th>50%</th>\n",
              "      <td>-118.485000</td>\n",
              "      <td>34.27000</td>\n",
              "      <td>29.000000</td>\n",
              "      <td>2106.000000</td>\n",
              "      <td>437.000000</td>\n",
              "      <td>1155.000000</td>\n",
              "      <td>409.50000</td>\n",
              "      <td>3.487150</td>\n",
              "      <td>177650.00000</td>\n",
              "    </tr>\n",
              "    <tr>\n",
              "      <th>75%</th>\n",
              "      <td>-118.020000</td>\n",
              "      <td>37.69000</td>\n",
              "      <td>37.000000</td>\n",
              "      <td>3129.000000</td>\n",
              "      <td>636.000000</td>\n",
              "      <td>1742.750000</td>\n",
              "      <td>597.25000</td>\n",
              "      <td>4.656475</td>\n",
              "      <td>263975.00000</td>\n",
              "    </tr>\n",
              "    <tr>\n",
              "      <th>max</th>\n",
              "      <td>-114.490000</td>\n",
              "      <td>41.92000</td>\n",
              "      <td>52.000000</td>\n",
              "      <td>30450.000000</td>\n",
              "      <td>5419.000000</td>\n",
              "      <td>11935.000000</td>\n",
              "      <td>4930.00000</td>\n",
              "      <td>15.000100</td>\n",
              "      <td>500001.00000</td>\n",
              "    </tr>\n",
              "  </tbody>\n",
              "</table>\n",
              "</div>"
            ],
            "text/plain": [
              "         longitude    latitude  ...  median_income  median_house_value\n",
              "count  3000.000000  3000.00000  ...    3000.000000          3000.00000\n",
              "mean   -119.589200    35.63539  ...       3.807272        205846.27500\n",
              "std       1.994936     2.12967  ...       1.854512        113119.68747\n",
              "min    -124.180000    32.56000  ...       0.499900         22500.00000\n",
              "25%    -121.810000    33.93000  ...       2.544000        121200.00000\n",
              "50%    -118.485000    34.27000  ...       3.487150        177650.00000\n",
              "75%    -118.020000    37.69000  ...       4.656475        263975.00000\n",
              "max    -114.490000    41.92000  ...      15.000100        500001.00000\n",
              "\n",
              "[8 rows x 9 columns]"
            ]
          },
          "metadata": {
            "tags": []
          },
          "execution_count": 35
        }
      ]
    },
    {
      "cell_type": "code",
      "metadata": {
        "colab": {
          "base_uri": "https://localhost:8080/",
          "height": 232
        },
        "id": "btZof_xinSbd",
        "outputId": "20dae28f-b234-4231-b19c-8e73a5f9ba99"
      },
      "source": [
        "dataset1 = pd.read_html('https://en.wikipedia.org/wiki/Data_science#:~:text=Data%20science%20is%20an%20interdisciplinary,broad%20range%20of%20application%20domains.') [3]\n",
        "dataset.head()"
      ],
      "execution_count": 36,
      "outputs": [
        {
          "output_type": "error",
          "ename": "IndexError",
          "evalue": "ignored",
          "traceback": [
            "\u001b[0;31m---------------------------------------------------------------------------\u001b[0m",
            "\u001b[0;31mIndexError\u001b[0m                                Traceback (most recent call last)",
            "\u001b[0;32m<ipython-input-36-9698bf3ea7d5>\u001b[0m in \u001b[0;36m<module>\u001b[0;34m()\u001b[0m\n\u001b[0;32m----> 1\u001b[0;31m \u001b[0mdataset1\u001b[0m \u001b[0;34m=\u001b[0m \u001b[0mpd\u001b[0m\u001b[0;34m.\u001b[0m\u001b[0mread_html\u001b[0m\u001b[0;34m(\u001b[0m\u001b[0;34m'https://en.wikipedia.org/wiki/Data_science#:~:text=Data%20science%20is%20an%20interdisciplinary,broad%20range%20of%20application%20domains.'\u001b[0m\u001b[0;34m)\u001b[0m \u001b[0;34m[\u001b[0m\u001b[0;36m3\u001b[0m\u001b[0;34m]\u001b[0m\u001b[0;34m\u001b[0m\u001b[0;34m\u001b[0m\u001b[0m\n\u001b[0m\u001b[1;32m      2\u001b[0m \u001b[0mdataset\u001b[0m\u001b[0;34m.\u001b[0m\u001b[0mhead\u001b[0m\u001b[0;34m(\u001b[0m\u001b[0;34m)\u001b[0m\u001b[0;34m\u001b[0m\u001b[0;34m\u001b[0m\u001b[0m\n",
            "\u001b[0;31mIndexError\u001b[0m: list index out of range"
          ]
        }
      ]
    }
  ]
}